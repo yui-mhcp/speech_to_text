{
 "cells": [
  {
   "cell_type": "markdown",
   "metadata": {},
   "source": [
    "# Example for the `Speech-To-Text (STT)` API\n",
    "\n",
    "This notebook illustrates how to build a pretrained `Whisper` model, and use it to transcribe an audio file !\n",
    "\n",
    "Models are converted, from either the official `openai` checkpoints, either from the `transformers` models checkpoints, from `pytorch` to a `keras` instance. For this purpose, both your keras backend, and `torch` have to be installed. Once the model has been converted, `torch` is not required anymore ;) \n",
    "\n",
    "Currently, only `tensorflow` backend has been tested, and the `logit filtering` strategy used in the original implemenetation is not properly working. However, this does not really affect the overall prediction quality ;) (it will be solved in the next update)\n",
    "\n",
    "The `tts` method works on both audios and videos !"
   ]
  },
  {
   "cell_type": "markdown",
   "metadata": {},
   "source": [
    "## Build whisper\n",
    "\n",
    "[Whisper](https://github.com/openai/whisper) is a multilingual `Speech-to-Text` model trained by `OpenAI`.\n",
    "\n",
    "**WARNING** : `pytorch` is required to convert the official `pytorch` checkpoint to a `keras` checkpoint ;)\n",
    "\n",
    "**Important Note** : the tokenizer is now copied from the `transformers` library, as the new official `openai`'s code is using their custom `tiktoken` tokenizer. This means that the 2 tokenizers are not *exactly* identical, but are compatible as the differences do not have any impact on the model."
   ]
  },
  {
   "cell_type": "code",
   "execution_count": 5,
   "metadata": {},
   "outputs": [
    {
     "name": "stdout",
     "output_type": "stream",
     "text": [
      "\n",
      "========== whisper-base ==========\n",
      "Model instance `stt_model`\n",
      "- Inputs \t: unknown\n",
      "- Outputs \t: unknown\n",
      "- Number of layers \t: 2\n",
      "- Number of parameters \t: 71.826 Millions\n",
      "- Model not compiled yet\n",
      "\n",
      "Transfer-learning from : base\n",
      "Already trained on 0 epochs (0 steps)\n",
      "\n",
      "- Language : multi\n",
      "- Vocabulary (size = 50364) : ['!', '\"', '#', '$', '%', '&', \"'\", '(', ')', '*', '+', ',', '-', '.', '/', '0', '1', '2', '3', '4', '5', '6', '7', '8', '9', ...]\n",
      "- Audio rate : 16000\n",
      "- # mel channels : 80\n",
      "- Use CTC decoder : False\n",
      "\n"
     ]
    }
   ],
   "source": [
    "from models.stt import Whisper\n",
    "\n",
    "model = Whisper(pretrained = 'base', lang = 'multi', nom = 'whisper-base')\n",
    "print(model)"
   ]
  },
  {
   "cell_type": "markdown",
   "metadata": {},
   "source": [
    "## Prediction API\n",
    "\n",
    "The prediction API is very simple to use : pass the audio filename(s), and the model you want (or the audio language) and that's it !\n",
    "\n",
    "The prediction splits the audio into *chunks* of a given amount of time (default to 30sec), and predicts the text for each chunk. Then it concatenates all the texts to build the complete transcription of the audio file ! Note that `Whisper` also splits each chunk into frames corresponding to the timestamps of the transcription (these are provided in the output). This may be useful to search a span of text, or even complete / correct the transcription ! \n",
    "\n",
    "This demonstration is performed on a short and clean audio. Nevertheless, `Whisper` has been trained on large scale datasets, and is able to transcribe audios in many languages, even in noisy or low quality audios !\n",
    "\n",
    "`Whisper` is a multilingual model, meaning that it can transcribe audios from a large variety of languages. However, it has to know which language it should use. To this end, the 1st prediction step is to detect the language from the audio. To skip this part, and thus speed up the prediction time, you can provide the `lang` argument ;)\n",
    "\n",
    "The inference method of `Whisper` is now compatible with the [XLA](https://www.tensorflow.org/xla) optimization ! This makes the model much faster than in eager (sequential) mode, at the cost of a much slower 1st call, as it needs to compute the execution graph. The inference can be executed in 3 different modes : \n",
    "- Eager (sequential) (`run_eagerly = True`) : slowest mode, but do not have any compilation time\n",
    "- Graph mode (`use_xla = False`) (only available for `tensorflow` backend) : compiles the function with `tf.function(jit_compile = False)`, which is a good trade-off between speed and compilation time\n",
    "- XLA (`use_xla = True`) : fastest mode, at the cost of a much slower 1st call\n",
    "\n",
    "Here is a short benchmark on my `RTX 3090` on the given audio with `num_sentences = 5, num_beams = 10` :\n",
    "- Eager : 877 ms - 889 ms\n",
    "- Graph : 1.918 sec - 151 ms\n",
    "- XLA : 5.067 sec - 42 ms\n",
    "\n",
    "**Known issue** : the `end` currently does not properly care about the padding expected by Whisper. This is the reason why the \"end\" timestamp is 30, while the audio is only 5sec long. This is also an issue for the `search` method shown below. This will be solved in the next update ;)"
   ]
  },
  {
   "cell_type": "code",
   "execution_count": 2,
   "metadata": {
    "tags": []
   },
   "outputs": [
    {
     "name": "stdout",
     "output_type": "stream",
     "text": [
      "Timers :\n",
      "- predict : 49 ms\n",
      "  - initialization : 165 μs\n",
      "    - _add_data : 71 μs\n",
      "  - loading audio : 26 ms\n",
      "    - read_audio : 23 ms\n",
      "      - read file : 23 ms\n",
      "      - normalize_audio : 491 μs\n",
      "    - mel_spectrogram : 1.160 ms\n",
      "    - trim_silence : 907 μs\n",
      "  - segment processing : 491 μs\n",
      "  - inference : 20 ms\n",
      "  - post_processing : 135 μs\n"
     ]
    },
    {
     "data": {
      "text/plain": [
       "[({},\n",
       "  {'text': 'The streets were narrow and unpaid but very fairly clean.',\n",
       "   'alignment': [{'id': -1,\n",
       "     'start': 0.0,\n",
       "     'end': 4.04,\n",
       "     'num': 0,\n",
       "     'time': 4.04,\n",
       "     'text': 'The streets were narrow and unpaid but very fairly clean.',\n",
       "     'tokens': array([  440,  8481,   645,  9432,   293,   517, 35035,   457,   588,\n",
       "             6457,  2541,    13], dtype=int32),\n",
       "     'score': 0,\n",
       "     'lang': 'en'}],\n",
       "   'filename': 'audio_en.wav',\n",
       "   'audio': 'audio_en.wav'})]"
      ]
     },
     "execution_count": 2,
     "metadata": {},
     "output_type": "execute_result"
    }
   ],
   "source": [
    "from loggers import set_level\n",
    "from models.stt import transcribe\n",
    "from utils.audio import display_audio\n",
    "\n",
    "set_level('time')\n",
    "\n",
    "filename = 'audio_en.wav'\n",
    "pred = transcribe(filename, model = 'whisper-base', save = False, lang = 'en', use_xla = True, verbose = False)\n",
    "\n",
    "#display_audio(filename)\n",
    "pred"
   ]
  },
  {
   "cell_type": "markdown",
   "metadata": {},
   "source": [
    "## Search keyword in audio\n",
    "\n",
    "The `search` function allows to search a keyword in an audio / video, and get all timestamps where this keyword has been found (with a given probability threshold). Even though the model is quite accurate, it can make some spelling mistakes, like in the given audio (i.e., the *unpaid* should be *unpaved*). To mitigate this in the matching function, the `Edit` distance (aka `Levenshtein distance`) is used with a *partial* alignment to find all occurences with a given tolerance. \n",
    "\n",
    "Once the positions of the candidates have been found, its approximate timestamp is provided based on its relative position, and the time information of the segments. "
   ]
  },
  {
   "cell_type": "code",
   "execution_count": 3,
   "metadata": {},
   "outputs": [
    {
     "name": "stdout",
     "output_type": "stream",
     "text": [
      "Model name : whisper-base\n",
      "Result for searching keyword 'clean' :\n",
      "Number of files : 1 / 1\n",
      "Total number of occurences : 1\n",
      "Files : Annotation of file audio_en.wav :\n",
      "- Total annotation time : 30.000 sec\n",
      "- Number of alignments : 1 (1 sub-parts)\n",
      "- Speakers (n = 1) : [-1]\n",
      "\n",
      "Occurences of 'clean' (1, threshold = 80.00%) :\n",
      "- Timestamp 26.316 sec (p = 100.00 %) : [...]  clean. [...]\n",
      "\n",
      "pretrained_models/whisper-base/search/map.json\n",
      "Filename is in processed file : False\n"
     ]
    }
   ],
   "source": [
    "import os\n",
    "\n",
    "from utils import load_json\n",
    "from models import get_model_dir\n",
    "from models.stt import search, get_model_name\n",
    "\n",
    "model_name = 'whisper-base'\n",
    "filename = 'audio_en.wav'\n",
    "\n",
    "print(\"Model name : {}\".format(model_name))\n",
    "r = search('clean', filename, model = model_name)\n",
    "print(r)\n",
    "print(get_model_dir(model_name, 'search', 'map.json'))\n",
    "print(\"Filename is in processed file : {}\".format(filename in load_json(get_model_dir(model_name, 'outputs', 'map.json'))))"
   ]
  },
  {
   "cell_type": "code",
   "execution_count": null,
   "metadata": {},
   "outputs": [],
   "source": [
    "r.display(before = 0.5)"
   ]
  },
  {
   "cell_type": "markdown",
   "metadata": {},
   "source": [
    "## Edit distance demonstration\n",
    "\n",
    "This example illustrates with longer example the **edit distance** with partial alignment for searching keyword in bad-spelled text (as described in the README file). \n",
    "\n",
    "The objective is to find *cat* in the text *the ct is here*"
   ]
  },
  {
   "cell_type": "code",
   "execution_count": 3,
   "metadata": {
    "tags": []
   },
   "outputs": [
    {
     "name": "stdout",
     "output_type": "stream",
     "text": [
      "Edit distance without partial alignment :\n",
      "          t    h    e         c    t         i    s           h     e     r     e\n",
      "   0.0  1.0  2.0  3.0  4.0  5.0  6.0  7.0  8.0  9.0  10.0  11.0  12.0  13.0  14.0\n",
      "c  1.0  1.0  2.0  3.0  4.0  4.0  5.0  6.0  7.0  8.0   9.0  10.0  11.0  12.0  13.0\n",
      "a  2.0  2.0  2.0  3.0  4.0  5.0  5.0  6.0  7.0  8.0   9.0  10.0  11.0  12.0  13.0\n",
      "t  3.0  2.0  3.0  3.0  4.0  5.0  5.0  6.0  7.0  8.0   9.0  10.0  11.0  12.0  13.0\n",
      "Edit distance with partial alignment :\n",
      "          t    h    e         c    t         i    s         h    e    r    e\n",
      "   0.0  0.0  0.0  0.0  0.0  0.0  0.0  0.0  0.0  0.0  0.0  0.0  0.0  0.0  0.0\n",
      "c  1.0  1.0  1.0  1.0  1.0  0.0  1.0  1.0  1.0  1.0  1.0  1.0  1.0  1.0  1.0\n",
      "a  2.0  2.0  2.0  2.0  2.0  1.0  1.0  2.0  2.0  2.0  2.0  2.0  2.0  2.0  2.0\n",
      "t  3.0  2.0  3.0  3.0  3.0  2.0  1.0  2.0  3.0  3.0  3.0  3.0  3.0  3.0  3.0\n",
      "Best alignment :  ct\n"
     ]
    }
   ],
   "source": [
    "import numpy as np\n",
    "\n",
    "from loggers import set_level\n",
    "from utils import plot, set_display_options\n",
    "from utils.distance import edit_distance\n",
    "\n",
    "set_level('info')\n",
    "set_display_options()\n",
    "\n",
    "truth = 'the ct is here'\n",
    "hypothesis = 'cat'\n",
    "\n",
    "print(\"Edit distance without partial alignment :\")\n",
    "dist, matrix = edit_distance(hypothesis, truth, partial = False, return_matrix = True, normalize = False, verbose = True)\n",
    "\n",
    "print(\"Edit distance with partial alignment :\")\n",
    "partial_dist, partial_matrix = edit_distance(hypothesis, truth, partial = True, return_matrix = True, normalize = False, verbose = True)\n",
    "\n",
    "start_idx = np.argmin(partial_matrix[-1, 1:]) + 1 - len(hypothesis)\n",
    "print(\"Best alignment : {}\".format(truth[start_idx : start_idx + len(hypothesis)]))"
   ]
  },
  {
   "cell_type": "code",
   "execution_count": 6,
   "metadata": {
    "tags": []
   },
   "outputs": [
    {
     "data": {
      "image/png": "[encoded data removed]",
      "text/plain": [
       "<Figure size 640x480 with 1 Axes>"
      ]
     },
     "metadata": {},
     "output_type": "display_data"
    }
   ],
   "source": [
    "probability = 1. - partial_matrix[-1, 1:] / len(hypothesis)\n",
    "plot(probability, ylim = (0, 1), xlabel = \"caracter index\", ylabel = \"probability (%)\")"
   ]
  },
  {
   "cell_type": "code",
   "execution_count": null,
   "metadata": {},
   "outputs": [],
   "source": []
  }
 ],
 "metadata": {
  "kernelspec": {
   "display_name": "Python 3 (ipykernel)",
   "language": "python",
   "name": "python3"
  },
  "language_info": {
   "codemirror_mode": {
    "name": "ipython",
    "version": 3
   },
   "file_extension": ".py",
   "mimetype": "text/x-python",
   "name": "python",
   "nbconvert_exporter": "python",
   "pygments_lexer": "ipython3",
   "version": "3.10.15"
  }
 },
 "nbformat": 4,
 "nbformat_minor": 4
}
