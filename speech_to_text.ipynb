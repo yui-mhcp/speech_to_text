{
 "cells": [
  {
   "cell_type": "markdown",
   "metadata": {},
   "source": [
    "# Example for the `Speech-To-Text (STT)` API\n",
    "\n",
    "This API allows you to easily perform prediction / search on audios / videos by  automatically loading models and calling associated function. \n",
    "\n",
    "You can identify models either by their name or by their associated language. To associate a model to a language, go to `models/stt/__init__.py` in the `_pretrained` variables (at the end of the file) you can see `'en' : 'pretrained_jasper'`. It means that when you are calling a function with `lang = 'en'`, it will load the `pretrained_jasper` model to perform prediction. \n",
    "\n",
    "Do not forget to download `pretrained_jasper` folder and put it in `pretrained_models` ! (link is in the README.md file)\n",
    "\n",
    "Note : prediction / search can be performed either on audios either on videos (mp4) !"
   ]
  },
  {
   "cell_type": "markdown",
   "metadata": {},
   "source": [
    "## Prediction\n",
    "\n",
    "Simple demonstration of prediction. \n",
    "\n",
    "The prediction will split the audio by *frames* of a given amount of time and predict text for each frame. Then it will concatenate each text to build the complete transcription of the audio. \n",
    "\n",
    "**Note** : this demonstration is done on a short, clean and clear audio. Performances on *real* audios / videos are far worst ! You cannot (currently) use this API for real transcription / subtitles generation... However forsearching words it is quite powerful as I use the `edit distance` so it canwork even if words are bad written (note that the longer the pattern is, better the search will be). "
   ]
  },
  {
   "cell_type": "code",
   "execution_count": 1,
   "metadata": {},
   "outputs": [
    {
     "name": "stdout",
     "output_type": "stream",
     "text": [
      "Model restoration...\n",
      "Initializing submodel : stt_model !\n",
      "Successfully restored stt_model from pretrained_models/pretrained_jasper/saving/stt_model.json !\n",
      "Model pretrained_jasper initialized successfully !\n",
      "Processing file ../__test_datas/audio_en.wav...\n"
     ]
    },
    {
     "name": "stderr",
     "output_type": "stream",
     "text": [
      "100%|████████████████████████████████████████████████████████████████████████████████████| 1/1 [00:03<00:00,  3.36s/it]"
     ]
    },
    {
     "name": "stdout",
     "output_type": "stream",
     "text": [
      "timers :\n",
      "  - predict : 5.243 sec\n",
      "    - processing executed 2 times : 1.870 sec (0.935 sec / exec)\n",
      "    - inference : 3.359 sec\n",
      "      - prediction : 1.054 sec\n",
      "        - prediction : 0.960 sec\n",
      "    - post processing : 0.000 sec\n"
     ]
    },
    {
     "name": "stderr",
     "output_type": "stream",
     "text": [
      "\n"
     ]
    },
    {
     "data": {
      "text/plain": [
       "[{'filename': '../__test_datas/audio_en.wav',\n",
       "  'time': 4.055,\n",
       "  'text': 'dthe streets were narrow and unpaved but very fairly clean',\n",
       "  'alignment': [{'start': 0.0,\n",
       "    'end': 4,\n",
       "    'text': 'dthe streets were narrow and unpaved but very fairly clean',\n",
       "    'id': -1,\n",
       "    'time': 4.0}]}]"
      ]
     },
     "execution_count": 1,
     "metadata": {},
     "output_type": "execute_result"
    }
   ],
   "source": [
    "from loggers import TIME_LEVEL, set_level\n",
    "from models.stt import predict\n",
    "from utils.audio import display_audio\n",
    "\n",
    "set_level(TIME_LEVEL)\n",
    "\n",
    "filename = '../__test_datas/audio_en.wav'\n",
    "pred = predict(filename, lang = 'en', overwrite = True)\n",
    "\n",
    "#display_audio(filename)\n",
    "pred"
   ]
  },
  {
   "cell_type": "markdown",
   "metadata": {},
   "source": [
    "## Search keyword in audio\n",
    "\n",
    "The `search` function allows you to search a keyword in an audio / video and get all timestamps where this keyword has been found (with a given probability threshold). As the model is relatively poor for *transcription*, I use **partial alignment** to get the probability of the word at each position (cf README.md for explaination on partial alignment). \n",
    "\n",
    "Next, to find the approximately timestamp where the word has been pronounced, I get the start of the *frame* (as audio are splitted in frames of *n* sec) and get the relative position of the word in the frame's text. \n",
    "\n",
    "In the below example, the *unpaved* word seems to be approximately in themiddle of the text so I suggest it is approximately at themiddle of the audio : the estimated timestamp is at 1.9sec which is approximately the middle of the 4sec audio !\n",
    "\n",
    "In this case the estimation is quite good as the frame is short (4sec) but this estimation is worst when audios are longer (with 30sec frame by default). It is the reason why, when displaying audio timestamps, I have added the `before` argument which wil display audio *n* sec before the predicted timestamp (by default to 2.5sec but you can increase it to 5 or 7.5sec if audios are longer / sparse (with silences)). "
   ]
  },
  {
   "cell_type": "code",
   "execution_count": 9,
   "metadata": {},
   "outputs": [
    {
     "name": "stdout",
     "output_type": "stream",
     "text": [
      "Model name : pretrained_jasper\n",
      "timers :\n",
      "  - search : 0.002 sec\n",
      "    - predict : 0.001 sec\n",
      "    - distance : 0.001 sec\n",
      "Result for searching keyword 'unpaved' :\n",
      "Number of files : 1 / 1\n",
      "Total number of occurences : 1\n",
      "Files : Annotation of file ../__test_datas/audio_en.wav :\n",
      "- Total annotation time : 4.000 sec\n",
      "- Number of alignments : 1 (1 sub-parts)\n",
      "- Speakers (n = 1) : [-1]\n",
      "\n",
      "Occurences of 'unpaved' (1, threshold = 80.00%) :\n",
      "- Timestamp 1.931 sec (p = 100.00 %) : [...]  unpaved but v [...]\n",
      "\n",
      "pretrained_models\\pretrained_jasper\\search\\map.json\n",
      "Filename is in processed file : True\n"
     ]
    }
   ],
   "source": [
    "import os\n",
    "\n",
    "from utils import load_json\n",
    "from models.model_utils import get_model_dir\n",
    "from models.stt import search, get_model_name\n",
    "\n",
    "model_name = get_model_name(lang = 'en')\n",
    "filename = '../__test_datas/audio_en.wav'\n",
    "\n",
    "print(\"Model name : {}\".format(model_name))\n",
    "r = search('unpaved', filename, model = model_name)\n",
    "print(r)\n",
    "print(get_model_dir(model_name, 'search', 'map.json'))\n",
    "print(\"Filename is in processed file : {}\".format(filename in load_json(get_model_dir(model_name, 'outputs', 'map.json'))))"
   ]
  },
  {
   "cell_type": "code",
   "execution_count": null,
   "metadata": {},
   "outputs": [],
   "source": [
    "r.display(before = 0.5)"
   ]
  },
  {
   "cell_type": "markdown",
   "metadata": {},
   "source": [
    "## Build pretrained DeepSpeech\n",
    "\n",
    "Note that the `pretrained_jasper` is the best compared to the `pretrained_deep_speech` but it is much bigger. If you want to use the `DeepSpeech` model, you first have to build it. \n",
    "\n",
    "Simply run these 2 lines and change, in the function above, the `lang = 'en'` by `model = 'pretrained_deep_speech'` and that's it ! All functions will use the `DeepSpeech2` model !\n",
    "\n",
    "Note : it will automatically download pretrained weights in `pretrained_models/pretrained_weights/` foler (400Mb) so it can take some time depending on your internet connection bandwith ;)"
   ]
  },
  {
   "cell_type": "code",
   "execution_count": null,
   "metadata": {},
   "outputs": [],
   "source": [
    "from models.stt import DeepSpeech\n",
    "model = DeepSpeech.from_deep_speech_pretrained()\n",
    "print(model)"
   ]
  },
  {
   "cell_type": "code",
   "execution_count": null,
   "metadata": {},
   "outputs": [],
   "source": [
    "from models.stt import Jasper\n",
    "model = Jasper.from_jasper_pretrained()\n",
    "print(model)"
   ]
  },
  {
   "cell_type": "markdown",
   "metadata": {},
   "source": [
    "## Edit distance demonstration\n",
    "\n",
    "This example illustrates with longer example the **edit distance** with partial alignment for searching keyword in bad-spelled text (as described in the README file). \n",
    "\n",
    "The objective is to find *cat* in the text *the ct is here*"
   ]
  },
  {
   "cell_type": "code",
   "execution_count": 10,
   "metadata": {},
   "outputs": [
    {
     "name": "stdout",
     "output_type": "stream",
     "text": [
      "Edit distance without partial alignment :\n",
      "          t    h    e         c    t         i    s           h     e     r     e\n",
      "   0.0  1.0  2.0  3.0  4.0  5.0  6.0  7.0  8.0  9.0  10.0  11.0  12.0  13.0  14.0\n",
      "c  1.0  1.0  2.0  3.0  4.0  4.0  5.0  6.0  7.0  8.0   9.0  10.0  11.0  12.0  13.0\n",
      "a  2.0  2.0  2.0  3.0  4.0  5.0  5.0  6.0  7.0  8.0   9.0  10.0  11.0  12.0  13.0\n",
      "t  3.0  2.0  3.0  3.0  4.0  5.0  5.0  6.0  7.0  8.0   9.0  10.0  11.0  12.0  13.0\n",
      "Edit distance with partial alignment :\n",
      "          t    h    e         c    t         i    s         h    e    r    e\n",
      "   0.0  0.0  0.0  0.0  0.0  0.0  0.0  0.0  0.0  0.0  0.0  0.0  0.0  0.0  0.0\n",
      "c  1.0  1.0  1.0  1.0  1.0  0.0  1.0  1.0  1.0  1.0  1.0  1.0  1.0  1.0  1.0\n",
      "a  2.0  2.0  2.0  2.0  2.0  1.0  1.0  2.0  2.0  2.0  2.0  2.0  2.0  2.0  2.0\n",
      "t  3.0  2.0  3.0  3.0  3.0  2.0  1.0  2.0  3.0  3.0  3.0  3.0  3.0  3.0  3.0\n",
      "Best alignment :  ct\n"
     ]
    }
   ],
   "source": [
    "import numpy as np\n",
    "\n",
    "from utils import plot, set_display_options\n",
    "from utils.distance import edit_distance\n",
    "\n",
    "set_display_options()\n",
    "\n",
    "truth = 'the ct is here'\n",
    "hypothesis = 'cat'\n",
    "\n",
    "print(\"Edit distance without partial alignment :\")\n",
    "dist, matrix = edit_distance(hypothesis, truth, partial = False, return_matrix = True, normalize = False, verbose = True)\n",
    "\n",
    "print(\"Edit distance with partial alignment :\")\n",
    "partial_dist, partial_matrix = edit_distance(hypothesis, truth, partial = True, return_matrix = True, normalize = False, verbose = True)\n",
    "\n",
    "start_idx = np.argmin(partial_matrix[-1, 1:]) + 1 - len(hypothesis)\n",
    "print(\"Best alignment : {}\".format(truth[start_idx : start_idx + len(hypothesis)]))"
   ]
  },
  {
   "cell_type": "code",
   "execution_count": 11,
   "metadata": {},
   "outputs": [
    {
     "data": {
      "image/png": "[encoded data removed]",
      "text/plain": [
       "<Figure size 432x288 with 1 Axes>"
      ]
     },
     "metadata": {
      "needs_background": "dark"
     },
     "output_type": "display_data"
    }
   ],
   "source": [
    "probability = 1. - partial_matrix[-1, 1:] / len(hypothesis)\n",
    "plot(probability, ylim = (0, 1), xlabel = \"caracter index\", ylabel = \"probability (%)\")"
   ]
  },
  {
   "cell_type": "code",
   "execution_count": null,
   "metadata": {},
   "outputs": [],
   "source": []
  }
 ],
 "metadata": {
  "kernelspec": {
   "display_name": "Python 3",
   "language": "python",
   "name": "python3"
  },
  "language_info": {
   "codemirror_mode": {
    "name": "ipython",
    "version": 3
   },
   "file_extension": ".py",
   "mimetype": "text/x-python",
   "name": "python",
   "nbconvert_exporter": "python",
   "pygments_lexer": "ipython3",
   "version": "3.6.6"
  }
 },
 "nbformat": 4,
 "nbformat_minor": 4
}
