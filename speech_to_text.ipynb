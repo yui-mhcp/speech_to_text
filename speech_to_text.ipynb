{
 "cells": [
  {
   "cell_type": "markdown",
   "metadata": {},
   "source": [
    "# Example for the `Speech-To-Text (STT)` API\n",
    "\n",
    "This notebook illustrates how to build a pretrained `Whisper` model, and use it to transcribe an audio file !\n",
    "\n",
    "Models are converted, from either the official `openai` checkpoints, either from the `transformers` models checkpoints, from `pytorch` to a `keras` instance. For this purpose, both your keras backend, and `torch` have to be installed. Once the model has been converted, `torch` is not required anymore ;) \n",
    "\n",
    "The `tts` method works on both audios and videos !"
   ]
  },
  {
   "cell_type": "markdown",
   "metadata": {},
   "source": [
    "## Build whisper\n",
    "\n",
    "[Whisper](https://github.com/openai/whisper) is a multilingual `Speech-to-Text` model trained by `OpenAI`.\n",
    "\n",
    "**Note** : `pytorch` is required to convert the official `pytorch` checkpoint to a `keras` checkpoint ;)\n",
    "\n",
    "**Note** : the tokenizer is now copied from the `transformers` library, as the new official `openai`'s code is using their custom `tiktoken` tokenizer. This means that the 2 tokenizers are not *exactly* identical, but are compatible as the differences do not have any impact on the model.\n",
    "\n",
    "There is 2 supported versions of `Whisper` for inference :\n",
    "- The `keras` implementation provided in `architectures/transformers/whisper_arch.py`\n",
    "- The [TensorRT-LLM](https://github.com/NVIDIA/TensorRT-LLM) implementation\n",
    "\n",
    "To get the best inference performances, the second option is the best one. The first implementation in `keras` is still maintained as it is a good way to effectively understand how `Whisper` is implemented, and working. It is worth mentioning that the provided `keras` implementation is faster than the `pytorch` implementation from the `transformers` library, as it leverages the `tensorflow XLA` optimization !\n",
    "\n",
    "The convertion to `TensorRT-LLM` is however a bit more complex, and require some additional configurations. Check the [installation guide](https://github.com/yui-mhcp/blob/master/INSTALLATION.md) to properly configure the libraries, then follow the steps below to build the TensorRT-LLM engine."
   ]
  },
  {
   "cell_type": "markdown",
   "metadata": {},
   "source": [
    "### Convertion to `keras`"
   ]
  },
  {
   "cell_type": "code",
   "execution_count": 4,
   "metadata": {},
   "outputs": [
    {
     "name": "stdout",
     "output_type": "stream",
     "text": [
      "\n",
      "========== whisper-base ==========\n",
      "Model :\n",
      "- Inputs \t: unknown\n",
      "- Outputs \t: unknown\n",
      "- Number of layers \t: 2\n",
      "- Number of parameters \t: 71.826 Millions\n",
      "- Model not compiled yet\n",
      "\n",
      "Transfer-learning from : base\n",
      "Already trained on 0 epochs (0 steps)\n",
      "\n",
      "- Language : multi\n",
      "- Vocabulary (size = 50364) : ['!', '\"', '#', '$', '%', '&', \"'\", '(', ')', '*', '+', ',', '-', '.', '/', '0', '1', '2', '3', '4', '5', '6', '7', '8', '9', ...]\n",
      "- Audio rate : 16000\n",
      "- # mel channels : 80\n",
      "- Use CTC decoder : False\n",
      "\n"
     ]
    }
   ],
   "source": [
    "from models.stt import Whisper\n",
    "\n",
    "model = Whisper(pretrained = 'base', lang = 'multi', nom = 'whisper-base')\n",
    "print(model)"
   ]
  },
  {
   "cell_type": "markdown",
   "metadata": {},
   "source": [
    "### Convertion to `TensorRT-LLM`\n",
    "\n",
    "**WARNING** The `TensorRT-LLM` engines are specific to a version of the library, meaning that if you update the `TensorRT-LLM` library, you will have to re-build the engine. Furthermore, the current `convert_checkpoint` scripts in the official `TensorRT-LLM` repository only supports official `Whisper` implementations by `OpenAI`, and not the versions from the `transformers` library. This is the reason why I provide a custom `convert_checkpoint.py` script that supports these custom models ! However, this is currently only working for the version `0.15.0`, and is not officially maintained accross versions.\n",
    "\n",
    "In the future, my objective is to make a PR to the [TensorRT-LLM repository](https://github.com/NVIDIA/TensorRT-LLM) to propose this more general convertion script ! My plan is to make it once the `v0.18.0` is released to make it compatible with the latest version."
   ]
  },
  {
   "cell_type": "markdown",
   "metadata": {},
   "source": [
    "#### Step 1 : loading the pre-trained pytorch version"
   ]
  },
  {
   "cell_type": "code",
   "execution_count": null,
   "metadata": {},
   "outputs": [],
   "source": [
    "from transformers import AutoTokenizer, AutoModelForSpeechSeq2Seq\n",
    "\n",
    "model_name = 'bofenghuang/whisper-large-v3-french'\n",
    "\n",
    "tokenizer = AutoTokenizer.from_pretrained(model_name)\n",
    "model     = AutoModelForSpeechSeq2Seq.from_pretrained(model_name, device_map = 'cuda', torch_dtype = 'float16')"
   ]
  },
  {
   "cell_type": "markdown",
   "metadata": {},
   "source": [
    "#### Step 2 : build the `TensorRT-LLM` engine\n",
    "\n",
    "The below script displays the commands to execute in the `TensorRT-LLM/examples/whisper` directory.\n",
    "\n",
    "1. Clone the official repository\n",
    "\n",
    "`git clone https://github.com/NVIDIA/TensorRT-LLM --branch v0.15.0.`\n",
    "\n",
    "2. Navigate to the directory, and copy the provided weights convertion script\n",
    "\n",
    "```bash\n",
    "cp convert_checkpoint.py TensorRT-LLM/examples/whisper/.\n",
    "cd TensorRT-LLM/examples/whisper\n",
    "```\n",
    "\n",
    "3. Set the desired model to convert, then display the commands to execute\n",
    "4. Run the commands in your python environment\n",
    "\n",
    "**Note** : the parameters in the below commands have been optimized to use the less possible memory in a single inference use-case. If you plan to use the model via an API server, you may need to increase the batch_size to support multiple requests in parallel !"
   ]
  },
  {
   "cell_type": "code",
   "execution_count": null,
   "metadata": {},
   "outputs": [],
   "source": [
    "import os\n",
    "import glob\n",
    "\n",
    "model_name = 'bofenghuang/whisper-large-v3-french'\n",
    "\n",
    "if 'openai' not in model_name:\n",
    "    hf_path = os.path.dirname(\n",
    "        glob.glob(os.path.expanduser('~/.cache/huggingface/hub/models--{}/snapshots/**/config.json'.format(model_name.replace('/', '--'))))[0]\n",
    "    )\n",
    "else:\n",
    "    raise NotImplementedError()\n",
    "\n",
    "model_path = model_name.split('/')[1].replace('-', '_')\n",
    "\n",
    "int8 = True\n",
    "batch_size = 1\n",
    "\n",
    "if int8: model_path += '_int8'\n",
    "\n",
    "cmd1 = \"\"\"\n",
    "python convert_checkpoint.py \\\\\n",
    "    --model_dir {} \\\\\n",
    "    --output_dir {}_checkpoint \\\\\n",
    "    --dtype float16\n",
    "\"\"\".format(hf_path, model_path)\n",
    "if int8: cmd1 = cmd1.strip() + \"\\\\\\n    --use_weight_only \\\\\\n    --weight_only_precision int8\"\n",
    "\n",
    "cmd2 = \"\"\"\n",
    "trtllm-build --checkpoint_dir {model_path}_checkpoint/encoder \\\\\n",
    "             --output_dir {model_path}_engine/encoder \\\\\n",
    "             --max_batch_size {batch_size} \\\\\n",
    "             --max_seq_len 3000 \\\\\n",
    "             --max_input_len 3000 \\\\\n",
    "             --max_encoder_input_len 3000 \\\\\n",
    "             --kv_cache_type disabled\n",
    "\"\"\".format(model_path = model_path, batch_size = batch_size)\n",
    "\n",
    "cmd3 = \"\"\"\n",
    "trtllm-build --checkpoint_dir {model_path}_checkpoint/decoder \\\\\n",
    "             --output_dir {model_path}_engine/decoder \\\\\n",
    "             --max_batch_size {batch_size} \\\\\n",
    "             --max_beam_width 5 \\\\\n",
    "             --max_encoder_input_len 3000 \\\\\n",
    "             --max_input_len 4 \\\\\n",
    "             --max_seq_len 512 \\\\\n",
    "             --tokens_per_block 16\n",
    "\"\"\".format(model_path = model_path, batch_size = batch_size)\n",
    "\n",
    "print(cmd1)\n",
    "print(cmd2)\n",
    "print(cmd3)\n"
   ]
  },
  {
   "cell_type": "markdown",
   "metadata": {},
   "source": [
    "### Step 3 : building the `Whisper` instance\n",
    "\n",
    "The `BaseModel` class (the base class for the `Whisper` implementation) supports the `TensorRT-LLM` runtime, by specifying the `runtime` argument (in this case : `trt_llm`). This runtime requires the `path` argument, specifying the path to the runtime engine. The `kv_cache_free_gpu_memory` is a convenient feature I have added, which internally uses the `kv_cache_free_gpu_memory_fraction` from the `TRT-LLM` framework, limiting the memory used by the model buffers. This is based on estimations to convert the absolute value to the *free_memory_fraction*, but is still more convenient than manually estimating the fraction ;)\n",
    "\n",
    "**Important note** : the `TensorRT-LLM` implementation uses a custom GPU memory manager, it is the reason why it is important to limit the visible gpu memory for `tensorflow`, to leave spaces to `TensorRT-LLM` ! `tensorflow` is used to compute the mel-spectrogram (the input of `whisper`), and therefore requires to be initialized. Another solution is to switch the `keras` backend to `pytorch`, but it is not always possible nor profitable. "
   ]
  },
  {
   "cell_type": "code",
   "execution_count": 4,
   "metadata": {},
   "outputs": [
    {
     "name": "stdout",
     "output_type": "stream",
     "text": [
      "Memory limited to 512Mb\n",
      "[TensorRT-LLM][INFO] Engine version 0.15.0 found in the config file, assuming engine(s) built by new builder API.\n",
      "[TensorRT-LLM][INFO] Engine version 0.15.0 found in the config file, assuming engine(s) built by new builder API.\n",
      "[TensorRT-LLM][INFO] Setting encoder max input length and hidden size for accepting visual features.\n",
      "[TensorRT-LLM][INFO] MPI size: 1, MPI local size: 1, rank: 0\n",
      "[TensorRT-LLM][INFO] Engine version 0.15.0 found in the config file, assuming engine(s) built by new builder API.\n",
      "[TensorRT-LLM][INFO] Setting encoder max input length and hidden size for accepting visual features.\n",
      "[TensorRT-LLM][INFO] Refreshed the MPI local session\n",
      "[TensorRT-LLM][INFO] Engine version 0.15.0 found in the config file, assuming engine(s) built by new builder API.\n",
      "[TensorRT-LLM][INFO] MPI size: 1, MPI local size: 1, rank: 0\n",
      "[TensorRT-LLM][INFO] TRTGptModel maxNumSequences: 1\n",
      "[TensorRT-LLM][INFO] TRTGptModel maxBatchSize: 1\n",
      "[TensorRT-LLM][INFO] TRTGptModel maxBeamWidth: 1\n",
      "[TensorRT-LLM][INFO] TRTGptModel maxSequenceLen: 3000\n",
      "[TensorRT-LLM][INFO] TRTGptModel maxDraftLen: 0\n",
      "[TensorRT-LLM][INFO] TRTGptModel mMaxAttentionWindowSize: (3000) * 32\n",
      "[TensorRT-LLM][INFO] TRTGptModel enableTrtOverlap: 0\n",
      "[TensorRT-LLM][INFO] TRTGptModel normalizeLogProbs: 1\n",
      "[TensorRT-LLM][INFO] TRTGptModel maxNumTokens: 3000\n",
      "[TensorRT-LLM][INFO] TRTGptModel maxInputLen: 2999 = min(maxSequenceLen - 1, maxNumTokens) since context FMHA and usePackedInput are enabled\n",
      "[TensorRT-LLM][INFO] TRTGptModel If model type is encoder, maxInputLen would be reset in trtEncoderModel to maxInputLen: min(maxSequenceLen, maxNumTokens).\n",
      "[TensorRT-LLM][INFO] Capacity Scheduler Policy: GUARANTEED_NO_EVICT\n",
      "[TensorRT-LLM][INFO] Context Chunking Scheduler Policy: None\n",
      "[TensorRT-LLM][INFO] Loaded engine size: 626 MiB\n",
      "[TensorRT-LLM][INFO] Inspecting the engine to identify potential runtime issues...\n",
      "[TensorRT-LLM][INFO] The profiling verbosity of the engine does not allow this analysis to proceed. Re-build the engine with 'detailed' profiling verbosity to get more diagnostics.\n",
      "[TensorRT-LLM][INFO] [MemUsageChange] Allocated 53.97 MiB for execution context memory.\n",
      "[TensorRT-LLM][INFO] [MemUsageChange] TensorRT-managed allocation in IExecutionContext creation: CPU +0, GPU +0, now: CPU 0, GPU 619 (MiB)\n",
      "[TensorRT-LLM][INFO] TRTEncoderModel mMaxInputLen: reset to 3000 from build config.\n",
      "[TensorRT-LLM][INFO] MPI size: 1, MPI local size: 1, rank: 0\n",
      "[TensorRT-LLM][INFO] Rank 0 is using GPU 0\n",
      "[TensorRT-LLM][INFO] TRTGptModel maxNumSequences: 1\n",
      "[TensorRT-LLM][INFO] TRTGptModel maxBatchSize: 1\n",
      "[TensorRT-LLM][INFO] TRTGptModel maxBeamWidth: 5\n",
      "[TensorRT-LLM][INFO] TRTGptModel maxSequenceLen: 512\n",
      "[TensorRT-LLM][INFO] TRTGptModel maxDraftLen: 0\n",
      "[TensorRT-LLM][INFO] TRTGptModel mMaxAttentionWindowSize: (512) * 32\n",
      "[TensorRT-LLM][INFO] TRTGptModel enableTrtOverlap: 0\n",
      "[TensorRT-LLM][INFO] TRTGptModel normalizeLogProbs: 1\n",
      "[TensorRT-LLM][INFO] TRTGptModel maxNumTokens: 512\n",
      "[TensorRT-LLM][INFO] TRTGptModel maxInputLen: 511 = min(maxSequenceLen - 1, maxNumTokens) since context FMHA and usePackedInput are enabled\n",
      "[TensorRT-LLM][INFO] TRTGptModel If model type is encoder, maxInputLen would be reset in trtEncoderModel to maxInputLen: min(maxSequenceLen, maxNumTokens).\n",
      "[TensorRT-LLM][INFO] Capacity Scheduler Policy: GUARANTEED_NO_EVICT\n",
      "[TensorRT-LLM][INFO] Context Chunking Scheduler Policy: None\n",
      "[TensorRT-LLM][INFO] The logger passed into createInferRuntime differs from one already provided for an existing builder, runtime, or refitter. Uses of the global logger, returned by nvinfer1::getLogger(), will return the existing value.\n",
      "[TensorRT-LLM][INFO] Loaded engine size: 940 MiB\n",
      "[TensorRT-LLM][INFO] Inspecting the engine to identify potential runtime issues...\n",
      "[TensorRT-LLM][INFO] The profiling verbosity of the engine does not allow this analysis to proceed. Re-build the engine with 'detailed' profiling verbosity to get more diagnostics.\n",
      "[TensorRT-LLM][INFO] [MemUsageChange] Allocated 68.69 MiB for execution context memory.\n",
      "[TensorRT-LLM][INFO] [MemUsageChange] TensorRT-managed allocation in IExecutionContext creation: CPU +0, GPU +0, now: CPU 0, GPU 1549 (MiB)\n",
      "[TensorRT-LLM][INFO] [MemUsageChange] Allocated 7.89 MB GPU memory for runtime buffers.\n",
      "[TensorRT-LLM][INFO] [MemUsageChange] Allocated 2.77 MB GPU memory for decoder.\n",
      "[TensorRT-LLM][INFO] Memory usage when calculating max tokens in paged kv cache: total: 23.68 GiB, available: 21.71 GiB\n",
      "[TensorRT-LLM][INFO] Number of blocks in KV cache primary pool: 201\n",
      "[TensorRT-LLM][INFO] Number of blocks in KV cache secondary pool: 0, onboard blocks to primary memory before reuse: true\n",
      "[TensorRT-LLM][INFO] Max KV cache pages per sequence: 32\n",
      "[TensorRT-LLM][INFO] Number of tokens per block: 16.\n",
      "[TensorRT-LLM][INFO] [MemUsageChange] Allocated 0.24 GiB for max tokens in paged KV cache (1600).\n",
      "[TensorRT-LLM][INFO] Max KV cache pages per sequence: 188\n",
      "[TensorRT-LLM][INFO] Number of tokens per block: 16.\n",
      "[TensorRT-LLM][INFO] [MemUsageChange] Allocated 0.24 GiB for max tokens in paged KV cache (1600).\n",
      "[TensorRT-LLM][INFO] This is an Encoder-Decoder model, set 0.5 cross KV cache fraction based on the config.\n",
      "[TensorRT-LLM][INFO] Number of blocks in self KV cache primary pool: 100, in cross KV cache primary pool: 100\n",
      "[TensorRT-LLM][INFO] Number of blocks in self KV cache secondary pool: 0, in cross KV cache secondary pool: 0\n",
      "[TensorRT-LLM][INFO] Enable MPI KV cache transport.\n",
      "Whisper `trt_llm_whisper_large_v3_french_int8` initialized successfully !\n",
      "\n",
      "========== trt_llm_whisper_large_v3_french_int8 ==========\n",
      "Model :\n",
      "<TensorRTLLMRuntime path=../../libs/TensorRT-LLM/examples/whisper/whisper_large_v3_french_int8_engine>\n",
      "\n",
      "Transfer-learning from : bofenghuang/whisper-large-v3-french\n",
      "- Language : en\n",
      "- Vocabulary (size = 50364) : ['!', '\"', '#', '$', '%', '&', \"'\", '(', ')', '*', '+', ',', '-', '.', '/', '0', '1', '2', '3', '4', '5', '6', '7', '8', '9', ...]\n",
      "- Audio rate : 16000\n",
      "- # mel channels : 128\n",
      "- Use CTC decoder : False\n",
      "\n"
     ]
    }
   ],
   "source": [
    "from loggers import *\n",
    "from models.stt import Whisper\n",
    "from utils import setup_environment\n",
    "\n",
    "setup_environment(gpu_memory = 512)\n",
    "\n",
    "int8 = True\n",
    "\n",
    "model_name = 'bofenghuang/whisper-large-v3-french'\n",
    "model_path = model_name.split('/')[1].replace('-', '_')\n",
    "if int8: model_path += '_int8'\n",
    "\n",
    "path = '../../libs/TensorRT-LLM/examples/whisper/{}_engine'.format(model_path)\n",
    "\n",
    "model = Whisper(\n",
    "    lang = 'multi',\n",
    "    name = 'trt_llm_' + model_path,\n",
    "    tokenizer  = 'openai/whisper-medium', # all the tokenizers are the same in the Whisper family of models\n",
    "    pretrained = model_name,\n",
    "    \n",
    "    path = path,\n",
    "    runtime = 'trt_llm',\n",
    "    kv_cache_free_gpu_memory = 512\n",
    ")\n",
    "print(model)"
   ]
  },
  {
   "cell_type": "markdown",
   "metadata": {},
   "source": [
    "## Prediction API\n",
    "\n",
    "The prediction API is very simple to use : pass the audio filename(s), and the model you want (or the audio language) and that's it !\n",
    "\n",
    "The prediction splits the audio into *chunks* of a given amount of time (default to 30sec), and predicts the text for each chunk. Then it concatenates all the texts to build the complete transcription of the audio file ! Note that `Whisper` also splits each chunk into frames corresponding to the timestamps of the transcription (these are provided in the output). This may be useful to search a span of text, or even complete / correct the transcription ! \n",
    "\n",
    "This demonstration is performed on a short and clean audio. Nevertheless, `Whisper` has been trained on large scale datasets, and is able to transcribe audios in many languages, even in noisy or low quality audios !\n",
    "\n",
    "`Whisper` is a multilingual model, meaning that it can transcribe audios from a large variety of languages. However, it has to know which language it should use. To this end, the 1st prediction step is to detect the language from the audio. To skip this part, and thus speed up the prediction time, you can provide the `lang` argument ;)"
   ]
  },
  {
   "cell_type": "markdown",
   "metadata": {},
   "source": [
    "### Keras inference"
   ]
  },
  {
   "cell_type": "code",
   "execution_count": 2,
   "metadata": {
    "tags": []
   },
   "outputs": [
    {
     "name": "stdout",
     "output_type": "stream",
     "text": [
      "Timers :\n",
      "- predict : 45 ms\n",
      "  - predict : 45 ms\n",
      "    - inference : 45 ms\n",
      "      - loading audio : 23 ms\n",
      "        - read_audio : 21 ms\n",
      "          - read file : 20 ms\n",
      "          - normalize_audio : 427 μs\n",
      "          - trim_silence : 216 μs\n",
      "        - mel spectrogram : 1.447 ms\n",
      "          - graph_mel_spectrogram : 806 μs\n",
      "      - segment processing : 514 μs\n",
      "      - xla_infer : 20 ms\n",
      "      - post_processing : 106 μs\n"
     ]
    },
    {
     "data": {
      "text/plain": [
       "[{'text': '<|notimestamps|> The streets were narrow and unpaid but very fairly clean.',\n",
       "  'segments': [{'start': 0.0,\n",
       "    'end': 3.96,\n",
       "    'text': '<|notimestamps|> The streets were narrow and unpaid but very fairly clean.',\n",
       "    'tokens': array([  440,  8481,   645,  9432,   293,   517, 35035,   457,   588,\n",
       "            6457,  2541,    13], dtype=int32),\n",
       "    'lang': 'en',\n",
       "    'time': 3.96}],\n",
       "  'lang': 'en',\n",
       "  'filename': 'audio_en.wav'}]"
      ]
     },
     "execution_count": 2,
     "metadata": {},
     "output_type": "execute_result"
    }
   ],
   "source": [
    "from loggers import set_level\n",
    "from models.stt import transcribe\n",
    "from utils.audio import display_audio\n",
    "\n",
    "set_level('time')\n",
    "\n",
    "filename = 'audio_en.wav'\n",
    "pred = transcribe(filename, model = 'whisper-base', save = False, lang = 'en', display = False)\n",
    "\n",
    "#display_audio(filename)\n",
    "pred"
   ]
  },
  {
   "cell_type": "markdown",
   "metadata": {},
   "source": [
    "### TensorRT-LLM inference\n",
    "\n",
    "The `transcribe` method is the same for all the supported models. Simply provide the `model`'s name, and it will be automatically loaded, no matter it is a `keras` or `TensorRT-LLM`-based model ;)\n",
    "\n",
    "**Note** : It is worth mentioning that, in the above example, the `whisper-base` model is used, while in the below cell, it is a fine-tuned version of the `large-v3` model. The inference time are therefore **not** comparable, as the last one is **much bigger**. \n",
    "\n",
    "**Known limitation** : currently, the `Whisper` engine predicts by default 1 token, no matter the parameters given to the build method. To overcome this, it is required to manually specify the `max_new_tokens` argument. In addition to that, the warnings displayed about the `CrossAttentionMask` were not displayed in the `v0.14`, but are actually not important."
   ]
  },
  {
   "cell_type": "code",
   "execution_count": 3,
   "metadata": {
    "tags": []
   },
   "outputs": [
    {
     "name": "stdout",
     "output_type": "stream",
     "text": [
      "Memory limited to 512Mb\n",
      "[TensorRT-LLM][WARNING] Default padding attention mask will be used as not all requests have cross attention mask.\n",
      "[TensorRT-LLM][WARNING] CrossAttentionMask is not provided for the request. Default padding attention mask will be created.\n",
      "[TensorRT-LLM][WARNING] CrossAttentionMask is not provided for the generation request. Full valid attentionMask will be used by default.\n",
      "[TensorRT-LLM][WARNING] CrossAttentionMask is not provided for the generation request. Full valid attentionMask will be used by default.\n",
      "[TensorRT-LLM][WARNING] CrossAttentionMask is not provided for the generation request. Full valid attentionMask will be used by default.\n",
      "[TensorRT-LLM][WARNING] CrossAttentionMask is not provided for the generation request. Full valid attentionMask will be used by default.\n",
      "[TensorRT-LLM][WARNING] CrossAttentionMask is not provided for the generation request. Full valid attentionMask will be used by default.\n",
      "[TensorRT-LLM][WARNING] CrossAttentionMask is not provided for the generation request. Full valid attentionMask will be used by default.\n",
      "[TensorRT-LLM][WARNING] CrossAttentionMask is not provided for the generation request. Full valid attentionMask will be used by default.\n",
      "[TensorRT-LLM][WARNING] CrossAttentionMask is not provided for the generation request. Full valid attentionMask will be used by default.\n",
      "[TensorRT-LLM][WARNING] CrossAttentionMask is not provided for the generation request. Full valid attentionMask will be used by default.\n",
      "[TensorRT-LLM][WARNING] CrossAttentionMask is not provided for the generation request. Full valid attentionMask will be used by default.\n",
      "[TensorRT-LLM][WARNING] CrossAttentionMask is not provided for the generation request. Full valid attentionMask will be used by default.\n",
      "[TensorRT-LLM][WARNING] CrossAttentionMask is not provided for the generation request. Full valid attentionMask will be used by default.\n",
      "[TensorRT-LLM][WARNING] CrossAttentionMask is not provided for the generation request. Full valid attentionMask will be used by default.\n",
      "[TensorRT-LLM][WARNING] CrossAttentionMask is not provided for the generation request. Full valid attentionMask will be used by default.\n",
      "14 tokens generated in 95 ms (146.052 tokens/sec)\n",
      "Timers :\n",
      "- predict : 120 ms\n",
      "  - predict : 120 ms\n",
      "    - inference : 120 ms\n",
      "      - loading audio : 22 ms\n",
      "        - read_audio : 21 ms\n",
      "          - read file : 20 ms\n",
      "          - normalize_audio : 239 μs\n",
      "          - trim_silence : 236 μs\n",
      "        - mel spectrogram : 1.191 ms\n",
      "          - graph_mel_spectrogram : 603 μs\n",
      "      - segment processing : 465 μs\n",
      "      - TRT-LLM inference : 97 ms\n",
      "      - post_processing : 132 μs\n"
     ]
    },
    {
     "data": {
      "text/plain": [
       "[{'text': 'The streets were narrow and unpaved, but very fairly clean.',\n",
       "  'segments': [{'start': 0.0,\n",
       "    'end': 3.96,\n",
       "    'text': 'The streets were narrow and unpaved, but very fairly clean.',\n",
       "    'tokens': array([ 2278,  8481,   645,  9432,   293, 20994, 12865,    11,   457,\n",
       "             588,  6457,  2541,    13], dtype=int32),\n",
       "    'lang': 'en',\n",
       "    'time': 3.96}],\n",
       "  'lang': 'en',\n",
       "  'filename': 'audio_en.wav'}]"
      ]
     },
     "execution_count": 3,
     "metadata": {},
     "output_type": "execute_result"
    }
   ],
   "source": [
    "from loggers import set_level\n",
    "from models.stt import transcribe\n",
    "from utils.audio import display_audio\n",
    "from utils import setup_environment\n",
    "\n",
    "setup_environment(gpu_memory = 512)\n",
    "\n",
    "set_level('time')\n",
    "\n",
    "filename = 'audio_en.wav'\n",
    "pred = transcribe(\n",
    "    filename, model = 'trt_llm_whisper_large_v3_french_int8', save = False, lang = 'en', display = False, max_new_tokens = 128\n",
    ")\n",
    "\n",
    "#display_audio(filename)\n",
    "pred"
   ]
  },
  {
   "cell_type": "markdown",
   "metadata": {},
   "source": [
    "## Search keyword in audio\n",
    "\n",
    "**This feature comes from an older version and is not working anymore. This will be updated for the next release**\n",
    "\n",
    "The `search` function allows to search a keyword in an audio / video, and get all timestamps where this keyword has been found (with a given probability threshold). Even though the model is quite accurate, it can make some spelling mistakes, like in the given audio (i.e., the *unpaid* should be *unpaved*). To mitigate this in the matching function, the `Edit` distance (aka `Levenshtein distance`) is used with a *partial* alignment to find all occurences with a given tolerance. \n",
    "\n",
    "Once the positions of the candidates have been found, its approximate timestamp is provided based on its relative position, and the time information of the segments. "
   ]
  },
  {
   "cell_type": "code",
   "execution_count": 3,
   "metadata": {},
   "outputs": [
    {
     "name": "stdout",
     "output_type": "stream",
     "text": [
      "Model name : whisper-base\n",
      "Result for searching keyword 'clean' :\n",
      "Number of files : 1 / 1\n",
      "Total number of occurences : 1\n",
      "Files : Annotation of file audio_en.wav :\n",
      "- Total annotation time : 30.000 sec\n",
      "- Number of alignments : 1 (1 sub-parts)\n",
      "- Speakers (n = 1) : [-1]\n",
      "\n",
      "Occurences of 'clean' (1, threshold = 80.00%) :\n",
      "- Timestamp 26.316 sec (p = 100.00 %) : [...]  clean. [...]\n",
      "\n",
      "pretrained_models/whisper-base/search/map.json\n",
      "Filename is in processed file : False\n"
     ]
    }
   ],
   "source": [
    "import os\n",
    "\n",
    "from utils import load_json\n",
    "from models import get_model_dir\n",
    "from models.stt import search, get_model_name\n",
    "\n",
    "model_name = 'whisper-base'\n",
    "filename = 'audio_en.wav'\n",
    "\n",
    "print(\"Model name : {}\".format(model_name))\n",
    "r = search('clean', filename, model = model_name)\n",
    "print(r)\n",
    "print(get_model_dir(model_name, 'search', 'map.json'))\n",
    "print(\"Filename is in processed file : {}\".format(filename in load_json(get_model_dir(model_name, 'outputs', 'map.json'))))"
   ]
  },
  {
   "cell_type": "code",
   "execution_count": null,
   "metadata": {},
   "outputs": [],
   "source": [
    "r.display(before = 0.5)"
   ]
  },
  {
   "cell_type": "markdown",
   "metadata": {},
   "source": [
    "## Edit distance demonstration\n",
    "\n",
    "This example illustrates with longer example the **edit distance** with partial alignment for searching keyword in bad-spelled text (as described in the README file). \n",
    "\n",
    "The objective is to find *cat* in the text *the ct is here*"
   ]
  },
  {
   "cell_type": "code",
   "execution_count": 4,
   "metadata": {
    "tags": []
   },
   "outputs": [
    {
     "name": "stdout",
     "output_type": "stream",
     "text": [
      "Edit distance without partial alignment :\n",
      "          t    h    e         c    t         i    s           h     e     r     e\n",
      "   0.0  1.0  2.0  3.0  4.0  5.0  6.0  7.0  8.0  9.0  10.0  11.0  12.0  13.0  14.0\n",
      "c  1.0  1.0  2.0  3.0  4.0  4.0  5.0  6.0  7.0  8.0   9.0  10.0  11.0  12.0  13.0\n",
      "a  2.0  2.0  2.0  3.0  4.0  5.0  5.0  6.0  7.0  8.0   9.0  10.0  11.0  12.0  13.0\n",
      "t  3.0  2.0  3.0  3.0  4.0  5.0  5.0  6.0  7.0  8.0   9.0  10.0  11.0  12.0  13.0\n",
      "Edit distance with partial alignment :\n",
      "          t    h    e         c    t         i    s         h    e    r    e\n",
      "   0.0  0.0  0.0  0.0  0.0  0.0  0.0  0.0  0.0  0.0  0.0  0.0  0.0  0.0  0.0\n",
      "c  1.0  1.0  1.0  1.0  1.0  0.0  1.0  1.0  1.0  1.0  1.0  1.0  1.0  1.0  1.0\n",
      "a  2.0  2.0  2.0  2.0  2.0  1.0  1.0  2.0  2.0  2.0  2.0  2.0  2.0  2.0  2.0\n",
      "t  3.0  2.0  3.0  3.0  3.0  2.0  1.0  2.0  3.0  3.0  3.0  3.0  3.0  3.0  3.0\n",
      "Best alignment :  ct\n"
     ]
    }
   ],
   "source": [
    "import numpy as np\n",
    "\n",
    "from loggers import set_level\n",
    "from utils import plot, set_display_options\n",
    "from utils.text import edit_distance\n",
    "\n",
    "set_level('info')\n",
    "set_display_options()\n",
    "\n",
    "truth = 'the ct is here'\n",
    "hypothesis = 'cat'\n",
    "\n",
    "print(\"Edit distance without partial alignment :\")\n",
    "dist, matrix = edit_distance(hypothesis, truth, partial = False, return_matrix = True, normalize = False, verbose = True)\n",
    "\n",
    "print(\"Edit distance with partial alignment :\")\n",
    "partial_dist, partial_matrix = edit_distance(hypothesis, truth, partial = True, return_matrix = True, normalize = False, verbose = True)\n",
    "\n",
    "start_idx = np.argmin(partial_matrix[-1, 1:]) + 1 - len(hypothesis)\n",
    "print(\"Best alignment : {}\".format(truth[start_idx : start_idx + len(hypothesis)]))"
   ]
  },
  {
   "cell_type": "code",
   "execution_count": 5,
   "metadata": {
    "tags": []
   },
   "outputs": [
    {
     "data": {
      "image/png": "[encoded data removed]",
      "text/plain": [
       "<Figure size 640x480 with 1 Axes>"
      ]
     },
     "metadata": {},
     "output_type": "display_data"
    }
   ],
   "source": [
    "probability = 1. - partial_matrix[-1, 1:] / len(hypothesis)\n",
    "plot(probability, ylim = (0, 1), xlabel = \"caracter index\", ylabel = \"probability (%)\")"
   ]
  },
  {
   "cell_type": "code",
   "execution_count": null,
   "metadata": {},
   "outputs": [],
   "source": []
  }
 ],
 "metadata": {
  "kernelspec": {
   "display_name": "Python 3 (ipykernel)",
   "language": "python",
   "name": "python3"
  },
  "language_info": {
   "codemirror_mode": {
    "name": "ipython",
    "version": 3
   },
   "file_extension": ".py",
   "mimetype": "text/x-python",
   "name": "python",
   "nbconvert_exporter": "python",
   "pygments_lexer": "ipython3",
   "version": "3.10.15"
  }
 },
 "nbformat": 4,
 "nbformat_minor": 4
}
