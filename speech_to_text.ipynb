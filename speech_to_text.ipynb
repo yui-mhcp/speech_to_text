{
 "cells": [
  {
   "cell_type": "markdown",
   "metadata": {},
   "source": [
    "# Example for the `Speech-To-Text (STT)` API\n",
    "\n",
    "This API allows you to easily perform prediction / search on audios / videos by  automatically loading models and calling associated function. \n",
    "\n",
    "You can identify models either by their name or by their associated language. To associate a model to a language, go to `models/stt/__init__.py` in the `_pretrained` variables (at the end of the file) you can see `'en' : 'whisper'`. It means that when you are calling a function with `lang = 'en'`, it will load the `whisper` model to perform prediction. \n",
    "\n",
    "Do not forget to initialize `whisper` ! (cf cell below)\n",
    "\n",
    "Note : prediction / search can be performed either on audios, either on videos !"
   ]
  },
  {
   "cell_type": "markdown",
   "metadata": {},
   "source": [
    "## Build whisper\n",
    "\n",
    "[Whisper](https://github.com/openai/whisper) is a multilingual `Speech-to-Text` model trained by `OpenAI`.\n",
    "\n",
    "**WARNING** : `pytorch` is required to convert the weigths, as the official project is made with `pytorch`. Do not forget to install it : `pip install torch`. A GPU version is **not** required ;)\n",
    "\n",
    "**Important Note** : the tokenizer is now copied from the `transformers` library, as the new official `openai`'s code is using their custom `tiktoken` tokenizer. This means that the 2 tokenizers are not *exactly* identical, but are compatible as the differences do not have any impact on the model"
   ]
  },
  {
   "cell_type": "code",
   "execution_count": 3,
   "metadata": {},
   "outputs": [
    {
     "name": "stdout",
     "output_type": "stream",
     "text": [
      "\n",
      "========== whisper ==========\n",
      "Sub model stt_model\n",
      "- Inputs \t: unknown\n",
      "- Outputs \t: unknown\n",
      "- Number of layers \t: 2\n",
      "- Number of parameters \t: 72.594 Millions\n",
      "- Model not compiled\n",
      "\n",
      "Transfer-learning from : base\n",
      "Already trained on 0 epochs (0 steps)\n",
      "\n",
      "- Language : multi\n",
      "- Vocabulary (size = 50364) : ['!', '\"', '#', '$', '%', '&', \"'\", '(', ')', '*', '+', ',', '-', '.', '/', '0', '1', '2', '3', '4', '5', '6', '7', '8', '9', ...]\n",
      "- Audio rate : 16000\n",
      "- # mel channels : 80\n",
      "- Use CTC decoder : False\n",
      "\n"
     ]
    }
   ],
   "source": [
    "from models.stt import Whisper\n",
    "\n",
    "model = Whisper(pretrained = 'base', lang = 'multi', nom = 'whisper')\n",
    "print(model)"
   ]
  },
  {
   "cell_type": "markdown",
   "metadata": {},
   "source": [
    "## Prediction API\n",
    "\n",
    "The prediction API is very simple to use : pass the audio filename(s), and the model you want (or the audio language) and that's it !\n",
    "\n",
    "The prediction splits the audio by *frames* of a given amount of time (default to 30sec), and predicts the text for each frame. Then it concatenates all the texts to build the complete transcription of the audio file ! Note that `Whisper` also splits each *frame* into sub-frames that are given in the output of the function. This may be useful to search a span of text, or even complete / correct the transcription ! \n",
    "\n",
    "This demonstration is performed on a short and clean audio. Nevertheless, `Whisper` has been trained on large scale datasets, and is able to transcribe audios in many languages, even in noisy or low quality audios !\n",
    "\n",
    "**[NEW]** The inference method of `Whisper` is now compatible with the [XLA](https://www.tensorflow.org/xla) optimization ! This makes the model much faster than in eager (sequential) model, at the cost of a much slower 1st call, as it needs to compute the execution graph. If you want to run in eager mode, pass `run_eagerly = True`, or `use_xla = False` to use the graph mode without XLA optimization (see the `CHANGELOG` for more details)"
   ]
  },
  {
   "cell_type": "code",
   "execution_count": 6,
   "metadata": {
    "tags": []
   },
   "outputs": [
    {
     "name": "stdout",
     "output_type": "stream",
     "text": [
      "Timers for logger timer :\n",
      "- predict : 496 ms\n",
      "  - initialization : 0 μs\n",
      "  - pre_processing : 0 μs\n",
      "  - loading audio : 119 ms\n",
      "  - segment processing : 10 ms\n",
      "  - detect_language : 314 ms\n",
      "    - pre_processing : 12 ms\n",
      "    - language detection : 33 ms\n",
      "  - inference : 50 ms\n",
      "    - Transformer inference : 50 ms\n",
      "  - post_processing : 0 μs\n"
     ]
    },
    {
     "data": {
      "text/plain": [
       "[('audio_en.wav',\n",
       "  {'filename': 'audio_en.wav',\n",
       "   'text': 'The streets were narrow and unpaid but very fairly clean.',\n",
       "   'alignment': [{'id': -1,\n",
       "     'start': 0.0,\n",
       "     'end': 4.0,\n",
       "     'num': 0,\n",
       "     'time': 4.0,\n",
       "     'text': 'The streets were narrow and unpaid but very fairly clean.',\n",
       "     'tokens': array([  440,  8481,   645,  9432,   293,   517, 35035,   457,   588,\n",
       "             6457,  2541,    13]),\n",
       "     'score': 0}]})]"
      ]
     },
     "execution_count": 6,
     "metadata": {},
     "output_type": "execute_result"
    }
   ],
   "source": [
    "from loggers import set_level\n",
    "from models.stt import predict\n",
    "from utils.audio import display_audio\n",
    "\n",
    "set_level('time')\n",
    "\n",
    "filename = 'audio_en.wav'\n",
    "pred = predict(filename, model = 'whisper', overwrite = True, save = False)\n",
    "\n",
    "#display_audio(filename)\n",
    "pred"
   ]
  },
  {
   "cell_type": "markdown",
   "metadata": {},
   "source": [
    "## Search keyword in audio\n",
    "\n",
    "The `search` function allows you to search a keyword in an audio / video and get all timestamps where this keyword has been found (with a given probability threshold). As the model is relatively poor for *transcription*, I use **partial alignment** to get the probability of the word at each position (cf README.md for explaination on partial alignment). \n",
    "\n",
    "Next, to find the approximately timestamp where the word has been pronounced, I get the start of the *frame* (as audio are splitted in frames of *n* sec) and get the relative position of the word in the frame's text. \n",
    "\n",
    "In the below example, the *unpaved* word seems to be approximately in themiddle of the text so I suggest it is approximately at themiddle of the audio : the estimated timestamp is at 1.9sec which is approximately the middle of the 4sec audio !\n",
    "\n",
    "In this case the estimation is quite good as the frame is short (4sec) but this estimation is worst when audios are longer (with 30sec frame by default). It is the reason why, when displaying audio timestamps, I have added the `before` argument which wil display audio *n* sec before the predicted timestamp (by default to 2.5sec but you can increase it to 5 or 7.5sec if audios are longer / sparse (with silences)). "
   ]
  },
  {
   "cell_type": "code",
   "execution_count": 3,
   "metadata": {},
   "outputs": [
    {
     "name": "stdout",
     "output_type": "stream",
     "text": [
      "Model name : stt_en_conformer_transducer_medium\n",
      "Timers for logger timer :\n",
      "- search : 0.004 sec\n",
      "  - predict : 0.003 sec\n",
      "  - distance : 0.001 sec\n",
      "Result for searching keyword 'unpaved' :\n",
      "Number of files : 1 / 1\n",
      "Total number of occurences : 1\n",
      "Files : Annotation of file ../__test_datas/audio_en.wav :\n",
      "- Total annotation time : 4.000 sec\n",
      "- Number of alignments : 1 (1 sub-parts)\n",
      "- Speakers (n = 1) : [-1]\n",
      "\n",
      "Occurences of 'unpaved' (1, threshold = 80.00%) :\n",
      "- Timestamp 1.895 sec (p = 100.00 %) : [...]  unpaved but v [...]\n",
      "\n",
      "pretrained_models\\stt_en_conformer_transducer_medium\\search\\map.json\n",
      "Filename is in processed file : True\n"
     ]
    }
   ],
   "source": [
    "import os\n",
    "\n",
    "from utils import load_json\n",
    "from models.model_utils import get_model_dir\n",
    "from models.stt import search, get_model_name\n",
    "\n",
    "model_name = get_model_name(lang = 'en')\n",
    "filename = '../__test_datas/audio_en.wav'\n",
    "\n",
    "print(\"Model name : {}\".format(model_name))\n",
    "r = search('unpaved', filename, model = model_name)\n",
    "print(r)\n",
    "print(get_model_dir(model_name, 'search', 'map.json'))\n",
    "print(\"Filename is in processed file : {}\".format(filename in load_json(get_model_dir(model_name, 'outputs', 'map.json'))))"
   ]
  },
  {
   "cell_type": "code",
   "execution_count": null,
   "metadata": {},
   "outputs": [],
   "source": [
    "r.display(before = 0.5)"
   ]
  },
  {
   "cell_type": "markdown",
   "metadata": {},
   "source": [
    "## Build pretrained DeepSpeech\n",
    "\n",
    "Note that the `pretrained_jasper` is the best compared to the `pretrained_deep_speech` but it is much bigger. If you want to use the `DeepSpeech` model, you first have to build it. \n",
    "\n",
    "Simply run these 2 lines and change, in the function above, the `lang = 'en'` by `model = 'pretrained_deep_speech'` and that's it ! All functions will use the `DeepSpeech2` model !\n",
    "\n",
    "Note : it will automatically download pretrained weights in `pretrained_models/pretrained_weights/` foler (400Mb) so it can take some time depending on your internet connection bandwith ;)"
   ]
  },
  {
   "cell_type": "code",
   "execution_count": null,
   "metadata": {},
   "outputs": [],
   "source": [
    "from models.stt import DeepSpeech\n",
    "model = DeepSpeech.from_deep_speech_pretrained()\n",
    "print(model)"
   ]
  },
  {
   "cell_type": "code",
   "execution_count": null,
   "metadata": {},
   "outputs": [],
   "source": [
    "from models.stt import Jasper\n",
    "model = Jasper.from_jasper_pretrained()\n",
    "print(model)"
   ]
  },
  {
   "cell_type": "markdown",
   "metadata": {},
   "source": [
    "## Edit distance demonstration\n",
    "\n",
    "This example illustrates with longer example the **edit distance** with partial alignment for searching keyword in bad-spelled text (as described in the README file). \n",
    "\n",
    "The objective is to find *cat* in the text *the ct is here*"
   ]
  },
  {
   "cell_type": "code",
   "execution_count": 7,
   "metadata": {
    "tags": []
   },
   "outputs": [
    {
     "name": "stdout",
     "output_type": "stream",
     "text": [
      "Edit distance without partial alignment :\n",
      "          t    h    e         c    t         i    s           h     e     r     e\n",
      "   0.0  1.0  2.0  3.0  4.0  5.0  6.0  7.0  8.0  9.0  10.0  11.0  12.0  13.0  14.0\n",
      "c  1.0  1.0  2.0  3.0  4.0  4.0  5.0  6.0  7.0  8.0   9.0  10.0  11.0  12.0  13.0\n",
      "a  2.0  2.0  2.0  3.0  4.0  5.0  5.0  6.0  7.0  8.0   9.0  10.0  11.0  12.0  13.0\n",
      "t  3.0  2.0  3.0  3.0  4.0  5.0  5.0  6.0  7.0  8.0   9.0  10.0  11.0  12.0  13.0\n",
      "Edit distance with partial alignment :\n",
      "          t    h    e         c    t         i    s         h    e    r    e\n",
      "   0.0  0.0  0.0  0.0  0.0  0.0  0.0  0.0  0.0  0.0  0.0  0.0  0.0  0.0  0.0\n",
      "c  1.0  1.0  1.0  1.0  1.0  0.0  1.0  1.0  1.0  1.0  1.0  1.0  1.0  1.0  1.0\n",
      "a  2.0  2.0  2.0  2.0  2.0  1.0  1.0  2.0  2.0  2.0  2.0  2.0  2.0  2.0  2.0\n",
      "t  3.0  2.0  3.0  3.0  3.0  2.0  1.0  2.0  3.0  3.0  3.0  3.0  3.0  3.0  3.0\n",
      "Best alignment :  ct\n"
     ]
    }
   ],
   "source": [
    "import numpy as np\n",
    "\n",
    "from loggers import set_level\n",
    "from utils import plot, set_display_options\n",
    "from utils.distance import edit_distance\n",
    "\n",
    "set_level('info')\n",
    "set_display_options()\n",
    "\n",
    "truth = 'the ct is here'\n",
    "hypothesis = 'cat'\n",
    "\n",
    "print(\"Edit distance without partial alignment :\")\n",
    "dist, matrix = edit_distance(hypothesis, truth, partial = False, return_matrix = True, normalize = False, verbose = True)\n",
    "\n",
    "print(\"Edit distance with partial alignment :\")\n",
    "partial_dist, partial_matrix = edit_distance(hypothesis, truth, partial = True, return_matrix = True, normalize = False, verbose = True)\n",
    "\n",
    "start_idx = np.argmin(partial_matrix[-1, 1:]) + 1 - len(hypothesis)\n",
    "print(\"Best alignment : {}\".format(truth[start_idx : start_idx + len(hypothesis)]))"
   ]
  },
  {
   "cell_type": "code",
   "execution_count": 8,
   "metadata": {
    "tags": []
   },
   "outputs": [
    {
     "data": {
      "image/png": "[encoded data removed]",
      "text/plain": [
       "<Figure size 432x288 with 1 Axes>"
      ]
     },
     "metadata": {},
     "output_type": "display_data"
    }
   ],
   "source": [
    "probability = 1. - partial_matrix[-1, 1:] / len(hypothesis)\n",
    "plot(probability, ylim = (0, 1), xlabel = \"caracter index\", ylabel = \"probability (%)\")"
   ]
  },
  {
   "cell_type": "code",
   "execution_count": null,
   "metadata": {},
   "outputs": [],
   "source": []
  }
 ],
 "metadata": {
  "kernelspec": {
   "display_name": "Python 3 (ipykernel)",
   "language": "python",
   "name": "python3"
  },
  "language_info": {
   "codemirror_mode": {
    "name": "ipython",
    "version": 3
   },
   "file_extension": ".py",
   "mimetype": "text/x-python",
   "name": "python",
   "nbconvert_exporter": "python",
   "pygments_lexer": "ipython3",
   "version": "3.10.5"
  }
 },
 "nbformat": 4,
 "nbformat_minor": 4
}
